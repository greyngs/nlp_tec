{
 "cells": [
  {
   "cell_type": "markdown",
   "metadata": {
    "id": "759SG4TyfbUn"
   },
   "source": [
    "#**Maestría en Inteligencia Artificial Aplicada**\n",
    "##**Curso: Procesamiento de Lenguaje Natural (NLP)**\n",
    "###Tecnológico de Monterrey\n",
    "###Prof Luis Eduardo Falcón Morales\n",
    "\n",
    "## **Adtividad de la Semana 02**\n",
    "###**Introducción al procesamiento de texto.**"
   ]
  },
  {
   "cell_type": "markdown",
   "metadata": {
    "id": "6ue1YAKx3XDo"
   },
   "source": [
    "En esta actividad deberás utilizar los datos del siguiente archivo que se encuentra en Canvas:\n",
    "\n",
    "MNA_NLP_semana_02_Actividad_datos.txt\n",
    "\n",
    "El archivo contiene comentarios en inglés sobre servicios de comida de la página de Yelp: https://www.yelp.com/ . \n",
    "\n",
    "Son mil comentarios y forman parte del conjunto de datos que se encuentra en el Machine Learning Repository de la UCI, llamado \"Sentiment Labelled Sentences\": https://archive.ics.uci.edu/ml/datasets/Sentiment+Labelled+Sentences#\n"
   ]
  },
  {
   "cell_type": "markdown",
   "metadata": {
    "id": "Zj-h4drXD-X9"
   },
   "source": [
    "#**Parte 1. Cargamos los datos.**   "
   ]
  },
  {
   "cell_type": "markdown",
   "metadata": {
    "id": "BY6yifxscfrx"
   },
   "source": [
    "Cargar los datos del archivo indicado y obtener una lista de longitud de 1000 strings/comentarios. \n",
    "\n",
    "Por el momento solamente requerimos las bibliotecas de Numpy y re, para el manejo de los arreglos y de las expresiones regulares en Python.\n",
    "\n",
    "En particular, no necesitarás en esta actividad la biblioteca de Pandas.\n",
    "\n",
    "###**NOTA: En esta actividad no debes importar nada más, con estas dos bibliotecas será *suficiente*.**"
   ]
  },
  {
   "cell_type": "code",
   "execution_count": 3,
   "metadata": {
    "id": "OJ26dAfhdFnf"
   },
   "outputs": [],
   "source": [
    "import numpy as np    # importamos Numpy para el manejo de los arreglos.\n",
    "import re             # importamos re para el manejo de las expresiones regulares."
   ]
  },
  {
   "cell_type": "code",
   "execution_count": 4,
   "metadata": {
    "id": "QHUmJyjDdGNP"
   },
   "outputs": [],
   "source": [
    "# Ejecuta las siguientes instrucciones para cargar la información del achivo dado:\n",
    "\n",
    "with open('MNA_NLP_semana_02_Actividad_datos.txt',        # puedes actualizar la ruta a tu archivo, en dado caso.\n",
    "          mode='r',     # abrimos el archivo en modo lectura.\n",
    "          encoding='utf-8'      # codificacion utf-8 para interpretar correctamente ciertos caracteres\n",
    "          ) as f:\n",
    "    docs = f.readlines()    # separamos cada comentario por líneas\n",
    "\n",
    "f.close()  # ya que tenemos la información en la variable docs, cerramos el archivo"
   ]
  },
  {
   "cell_type": "code",
   "execution_count": 3,
   "metadata": {
    "id": "L6WzrSrodG-Y"
   },
   "outputs": [
    {
     "data": {
      "text/plain": [
       "True"
      ]
     },
     "execution_count": 3,
     "metadata": {},
     "output_type": "execute_result"
    }
   ],
   "source": [
    "type(docs) == list   # Verifica que tu variable \"docs\" es una lista"
   ]
  },
  {
   "cell_type": "code",
   "execution_count": 4,
   "metadata": {
    "id": "QIK1u9WS2FtS"
   },
   "outputs": [
    {
     "data": {
      "text/plain": [
       "True"
      ]
     },
     "execution_count": 4,
     "metadata": {},
     "output_type": "execute_result"
    }
   ],
   "source": [
    "len(docs)==1000  # verifica que la longitud de \"docs\" es de mil comentarios."
   ]
  },
  {
   "cell_type": "code",
   "execution_count": 5,
   "metadata": {
    "id": "9AMLIfQvJqNZ"
   },
   "outputs": [
    {
     "data": {
      "text/plain": [
       "['Wow... Loved this place.\\n',\n",
       " 'Crust is not good.\\n',\n",
       " 'Not tasty and the texture was just nasty.\\n',\n",
       " 'Stopped by during the late May bank holiday off Rick Steve recommendation and loved it.\\n',\n",
       " 'The selection on the menu was great and so were the prices.\\n',\n",
       " 'Now I am getting angry and I want my damn pho.\\n',\n",
       " \"Honeslty it didn't taste THAT fresh.)\\n\",\n",
       " 'The potatoes were like rubber and you could tell they had been made up ahead of time being kept under a warmer.\\n',\n",
       " 'The fries were great too.\\n',\n",
       " 'A great touch.\\n']"
      ]
     },
     "execution_count": 5,
     "metadata": {},
     "output_type": "execute_result"
    }
   ],
   "source": [
    "docs[0:10]     # observa algunos de los primeros comentarios"
   ]
  },
  {
   "cell_type": "markdown",
   "metadata": {
    "id": "k_ewoagic5jc"
   },
   "source": [
    "#**Parte 2: sección de preguntas (regex).**   \n"
   ]
  },
  {
   "cell_type": "markdown",
   "metadata": {
    "id": "X-eMJa3DFCIV"
   },
   "source": [
    "##**Instrucciones:**\n",
    "\n",
    "###**A continuación deberás contestar cada una de las preguntas que te piden usando expresiones regulares (regex).**\n",
    "\n",
    "###**Por el momento no hay restricción en cuanto al número de líneas de código que agregues, pero trata de incluir las mínimas posibles.**"
   ]
  },
  {
   "cell_type": "markdown",
   "metadata": {
    "id": "78nJMemzn5a5"
   },
   "source": [
    "*   **Pregunta 1.** \n",
    "\n",
    "Busca y elimina todos los saltos de línea '\\n' que se encuentran al final de cada comentario. \n",
    "\n",
    "Una vez finalizado, imprime los primeros 10 comentarios del resultado obtenido.\n"
   ]
  },
  {
   "cell_type": "code",
   "execution_count": 5,
   "metadata": {
    "id": "PwbYYIuZn8pE"
   },
   "outputs": [],
   "source": [
    "cleaned_docs = [doc.rstrip('\\n') for doc in docs]"
   ]
  },
  {
   "cell_type": "code",
   "execution_count": 7,
   "metadata": {
    "id": "j-0qeh2Jn8l1"
   },
   "outputs": [
    {
     "data": {
      "text/plain": [
       "['Wow... Loved this place.',\n",
       " 'Crust is not good.',\n",
       " 'Not tasty and the texture was just nasty.',\n",
       " 'Stopped by during the late May bank holiday off Rick Steve recommendation and loved it.',\n",
       " 'The selection on the menu was great and so were the prices.',\n",
       " 'Now I am getting angry and I want my damn pho.',\n",
       " \"Honeslty it didn't taste THAT fresh.)\",\n",
       " 'The potatoes were like rubber and you could tell they had been made up ahead of time being kept under a warmer.',\n",
       " 'The fries were great too.',\n",
       " 'A great touch.']"
      ]
     },
     "execution_count": 7,
     "metadata": {},
     "output_type": "execute_result"
    }
   ],
   "source": [
    "cleaned_docs[0:10]"
   ]
  },
  {
   "cell_type": "markdown",
   "metadata": {
    "id": "VWeKQC93ctEo"
   },
   "source": [
    "*   **Pregunta 2.**  \n",
    "\n",
    "Busca e imprime todas las palabras que terminan con dos o más signos de admiración seguidos, por ejemplo \"!!!\". \n",
    "\n",
    "Debes imprimir tanto la palabra como la totalidad de signos de admiración que le siguen. \n",
    "\n",
    "Indica cuántos resultados obtuviste.\n",
    "\n"
   ]
  },
  {
   "cell_type": "code",
   "execution_count": 8,
   "metadata": {
    "id": "0p3kMXfddICc"
   },
   "outputs": [],
   "source": [
    "quest2_list = []\n",
    "pattern = r'\\w+!{2,}'\n",
    "for item in cleaned_docs:\n",
    "    match = re.search(pattern, item)\n",
    "    if match:\n",
    "        quest2_list.append([match.group(), len(re.findall('!', match.group()))])"
   ]
  },
  {
   "cell_type": "code",
   "execution_count": 9,
   "metadata": {
    "id": "SPVM1MCWdH6Z"
   },
   "outputs": [
    {
     "name": "stdout",
     "output_type": "stream",
     "text": [
      "Number of results found: 26\n",
      "Firehouse!!!!!, count: 5\n",
      "APPETIZERS!!!, count: 3\n",
      "amazing!!!, count: 3\n",
      "buffet!!!, count: 3\n",
      "good!!, count: 2\n",
      "it!!!!, count: 4\n",
      "DELICIOUS!!, count: 2\n",
      "amazing!!, count: 2\n",
      "shawarrrrrrma!!!!!!, count: 6\n",
      "yucky!!!, count: 3\n",
      "steak!!!!!, count: 5\n",
      "delicious!!!, count: 3\n",
      "far!!, count: 2\n",
      "biscuits!!!, count: 3\n",
      "dry!!, count: 2\n",
      "disappointing!!!, count: 3\n",
      "awesome!!, count: 2\n",
      "Up!!, count: 2\n",
      "FLY!!!!!!!!, count: 8\n",
      "here!!!, count: 3\n",
      "great!!!!!!!!!!!!!!, count: 14\n",
      "packed!!, count: 2\n",
      "otherwise!!, count: 2\n",
      "amazing!!!!!!!!!!!!!!!!!!!, count: 19\n",
      "style!!, count: 2\n",
      "disappointed!!, count: 2\n"
     ]
    }
   ],
   "source": [
    "print(f'Number of results found: {len(quest2_list)}')\n",
    "for item in quest2_list:\n",
    "    print(f'{item[0]}, count: {item[1]}')"
   ]
  },
  {
   "cell_type": "markdown",
   "metadata": {
    "id": "-s3okBqL96TT"
   },
   "source": [
    "*   **Pregunta 3.**  \n",
    "\n",
    "Busca e imprime todas las palabras que están escritas totalmente en mayúsculas. Cada coincidencia debe ser una sola palabra.\n",
    "\n",
    "Indica cuántas palabras encontraste.\n",
    "\n"
   ]
  },
  {
   "cell_type": "code",
   "execution_count": 10,
   "metadata": {
    "id": "yKHJkZKo_nW5"
   },
   "outputs": [],
   "source": [
    "quest3_list = []\n",
    "pattern = r'\\b[A-Z]+\\b'\n",
    "for item in cleaned_docs:\n",
    "    match = re.search(pattern, item)\n",
    "    if match:\n",
    "        quest3_list.append(match.group())"
   ]
  },
  {
   "cell_type": "code",
   "execution_count": 11,
   "metadata": {
    "id": "L3q08aq69sNn"
   },
   "outputs": [
    {
     "name": "stdout",
     "output_type": "stream",
     "text": [
      "Number of results found: 350\n",
      "['I', 'THAT', 'A', 'I', 'I', 'I', 'I', 'I', 'I', 'I', 'I', 'I', 'I', 'APPETIZERS', 'A', 'I', 'I', 'I', 'I', 'I', 'WILL', 'I', 'I', 'AND', 'REAL', 'I', 'I', 'I', 'BITCHES', 'I', 'I', 'I', 'NYC', 'I', 'I', 'I', 'I', 'I', 'I', 'STALE', 'I', 'I', 'DELICIOUS', 'I', 'I', 'I', 'I', 'I', 'I', 'I', 'I', 'I', 'I', 'I', 'I', 'WORST', 'I', 'ALL', 'I', 'BARGAIN', 'I', 'TV', 'NONE', 'I', 'FREEZING', 'AYCE', 'I', 'I', 'I', 'I', 'I', 'I', 'I', 'I', 'I', 'FLAVOR', 'I', 'I', 'I', 'I', 'I', 'I', 'I', 'I', 'I', 'I', 'I', 'I', 'I', 'NEVER', 'I', 'I', 'I', 'BBQ', 'I', 'A', 'UNREAL', 'I', 'I', 'I', 'I', 'I', 'OMG', 'I', 'BETTER', 'I', 'I', 'BLAND', 'I', 'I', 'I', 'I', 'I', 'I', 'I', 'RUDE', 'I', 'I', 'WILL', 'I', 'I', 'I', 'I', 'I', 'I', 'I', 'I', 'I', 'I', 'TOTAL', 'I', 'I', 'I', 'I', 'I', 'I', 'I', 'I', 'I', 'I', 'I', 'I', 'I', 'I', 'FS', 'I', 'I', 'I', 'I', 'I', 'I', 'I', 'I', 'AZ', 'I', 'I', 'I', 'I', 'I', 'I', 'I', 'I', 'CONCLUSION', 'I', 'I', 'I', 'I', 'I', 'BEST', 'I', 'GO', 'A', 'I', 'I', 'GC', 'I', 'I', 'I', 'I', 'I', 'I', 'I', 'I', 'I', 'AVOID', 'I', 'I', 'I', 'A', 'I', 'I', 'AN', 'I', 'I', 'I', 'I', 'I', 'I', 'NASTY', 'OMG', 'NO', 'I', 'I', 'I', 'I', 'I', 'I', 'THE', 'I', 'I', 'I', 'I', 'I', 'I', 'I', 'I', 'I', 'I', 'I', 'PERFECT', 'SCREAMS', 'I', 'MGM', 'I', 'I', 'I', 'A', 'I', 'I', 'I', 'I', 'I', 'I', 'I', 'I', 'I', 'I', 'I', 'BEST', 'I', 'I', 'T', 'A', 'I', 'I', 'I', 'I', 'I', 'I', 'I', 'I', 'I', 'I', 'I', 'FANTASTIC', 'I', 'I', 'I', 'GREAT', 'OK', 'I', 'I', 'WAY', 'I', 'I', 'MUST', 'I', 'I', 'I', 'I', 'I', 'I', 'OK', 'I', 'I', 'OVERPRICED', 'I', 'I', 'I', 'I', 'I', 'I', 'I', 'I', 'I', 'I', 'I', 'I', 'I', 'I', 'I', 'I', 'I', 'I', 'I', 'I', 'I', 'I', 'I', 'I', 'I', 'I', 'I', 'I', 'I', 'I', 'I', 'I', 'I', 'I', 'WEAK', 'I', 'I', 'I', 'I', 'I', 'I', 'I', 'SHOULD', 'I', 'I', 'RI', 'I', 'I', 'I', 'I', 'I', 'I', 'I', 'I', 'I', 'NOT', 'I', 'I', 'I', 'I', 'I', 'I', 'I', 'I', 'I', 'I', 'I', 'I', 'A', 'I', 'I', 'I', 'I', 'I']\n"
     ]
    }
   ],
   "source": [
    "print(f'Number of results found: {len(quest3_list)}\\n{quest3_list}')"
   ]
  },
  {
   "cell_type": "markdown",
   "metadata": {
    "id": "GX8eYyDoMZma"
   },
   "source": [
    "*   **Pregunta 4.**  \n",
    "\n",
    "Busca e imprime los comentarios en donde todos los caracteres alfabéticos (letras) están en mayúsculas. \n",
    "\n",
    "Cada coincidencia encontrada debe ser todo el comentario/enunciado.\n",
    "\n",
    "Indica cuántos resultados obtuviste.\n"
   ]
  },
  {
   "cell_type": "code",
   "execution_count": 12,
   "metadata": {
    "id": "K8VuZxvTMYj6"
   },
   "outputs": [],
   "source": [
    "quest4_list = []\n",
    "pattern = r'^(?:[^a-z]*[A-Z][^a-z]*)+$'\n",
    "for item in cleaned_docs:\n",
    "    match = re.search(pattern, item)\n",
    "    if match:\n",
    "        quest4_list.append(match.group())"
   ]
  },
  {
   "cell_type": "code",
   "execution_count": 13,
   "metadata": {
    "id": "PmKgX7sCMcDx"
   },
   "outputs": [
    {
     "name": "stdout",
     "output_type": "stream",
     "text": [
      "Number of results found: 5\n",
      "['DELICIOUS!!', 'RUDE & INCONSIDERATE MANAGEMENT.', 'WILL NEVER EVER GO BACK AND HAVE TOLD MANY PEOPLE WHAT HAD HAPPENED.', 'TOTAL WASTE OF TIME.', 'AVOID THIS ESTABLISHMENT!']\n"
     ]
    }
   ],
   "source": [
    "print(f'Number of results found: {len(quest4_list)}\\n{quest4_list}')"
   ]
  },
  {
   "cell_type": "markdown",
   "metadata": {
    "id": "a1i6qv7-McmU"
   },
   "source": [
    "*   **Pregunta 5.**  \n",
    "\n",
    "Busca e imprime todas las palabras que tengan una vocal acentuada, del tipo á, é, í, ó, ú. \n",
    "\n",
    "Indica cuántos resultados obtuviste."
   ]
  },
  {
   "cell_type": "code",
   "execution_count": 36,
   "metadata": {
    "id": "nZZ5zKUOMeGD"
   },
   "outputs": [],
   "source": [
    "quest5_list = []\n",
    "pattern = r'\\w*[áéíóú]\\w*'\n",
    "for item in cleaned_docs:\n",
    "    match = re.search(pattern, item)\n",
    "    if match:\n",
    "        quest5_list.append(match.group())"
   ]
  },
  {
   "cell_type": "code",
   "execution_count": 37,
   "metadata": {
    "id": "l1mFvUEZMe8s"
   },
   "outputs": [
    {
     "name": "stdout",
     "output_type": "stream",
     "text": [
      "Number of results found: 3\n",
      "['fiancé', 'Café', 'puréed']\n"
     ]
    }
   ],
   "source": [
    "print(f'Number of results found: {len(quest5_list)}\\n{quest5_list}')"
   ]
  },
  {
   "cell_type": "markdown",
   "metadata": {
    "id": "ZmPiAI82Mfb3"
   },
   "source": [
    "*   **Pregunta 6.**  \n",
    "\n",
    "Busca e imprime todas las cantidades numéricas monetarias, enteras o con decimales, que inician con el símbolo $\\$$. \n",
    "\n",
    "Indica cuántos resultados obtuviste."
   ]
  },
  {
   "cell_type": "code",
   "execution_count": 38,
   "metadata": {
    "id": "6vhe9-Y-MhL9"
   },
   "outputs": [],
   "source": [
    "quest6_list = []\n",
    "pattern = r'\\$\\d+(?:\\.\\d+)?'\n",
    "for item in cleaned_docs:\n",
    "    match = re.search(pattern, item)\n",
    "    if match:\n",
    "        quest6_list.append(match.group())"
   ]
  },
  {
   "cell_type": "code",
   "execution_count": 39,
   "metadata": {
    "id": "_t0a5xWDMhQ5"
   },
   "outputs": [
    {
     "name": "stdout",
     "output_type": "stream",
     "text": [
      "Number of results found: 8\n",
      "['$20', '$4.00', '$17', '$3', '$35', '$7.85', '$12', '$11.99']\n"
     ]
    }
   ],
   "source": [
    "print(f'Number of results found: {len(quest6_list)}\\n{quest6_list}')"
   ]
  },
  {
   "cell_type": "markdown",
   "metadata": {
    "id": "2j-HpvhwMhq2"
   },
   "source": [
    "*   **Pregunta 7.**  \n",
    "\n",
    "Busca e imprime todas las palabras que sean variantes de la palabra \"love\", sin importar si incluyen mayúsculas o minúsculas, o la manera en que esté conjugada o alguna otra variación que se haga con dicha palabra.\n",
    "\n",
    "Indica cuántos resultados obtuviste."
   ]
  },
  {
   "cell_type": "code",
   "execution_count": 44,
   "metadata": {
    "id": "kqqyRChVMjol"
   },
   "outputs": [],
   "source": [
    "quest7_list = []\n",
    "pattern = r'\\b\\w*love\\w*\\b'\n",
    "for item in cleaned_docs:\n",
    "    match = re.search(pattern, item, re.IGNORECASE)\n",
    "    if match:\n",
    "        quest7_list.append(match.group())"
   ]
  },
  {
   "cell_type": "code",
   "execution_count": 45,
   "metadata": {
    "id": "UXd0VQluMj_x"
   },
   "outputs": [
    {
     "name": "stdout",
     "output_type": "stream",
     "text": [
      "Number of results found: 36\n",
      "['Loved', 'loved', 'Loved', 'love', 'loves', 'LOVED', 'lovers', 'love', 'lovers', 'Love', 'loved', 'loved', 'love', 'love', 'love', 'loved', 'love', 'loved', 'Love', 'LOVED', 'love', 'lovely', 'love', 'lovely', 'love', 'lover', 'loved', 'love', 'love', 'love', 'love', 'gloves', 'love', 'love', 'love', 'love']\n"
     ]
    }
   ],
   "source": [
    "print(f'Number of results found: {len(quest7_list)}\\n{quest7_list}')"
   ]
  },
  {
   "cell_type": "markdown",
   "metadata": {
    "id": "Ctb-NTY3MkYG"
   },
   "source": [
    "*   **Pregunta 8.**  \n",
    "\n",
    "Busca e imprime todas las palabras, variantes de \"so\" y \"good\", que tengan dos o más \"o\" en \"so\" y 3 o más \"o\" en good. \n",
    "\n",
    "Indica cuántas encontraste.\n"
   ]
  },
  {
   "cell_type": "code",
   "execution_count": 58,
   "metadata": {
    "id": "A8Nf3B_cMlqg"
   },
   "outputs": [],
   "source": [
    "quest8_list = []\n",
    "pattern = r'\\bso{2,}o+\\b|\\bgoo{2,}d\\b'\n",
    "for item in cleaned_docs:\n",
    "    match = re.search(pattern, item, re.IGNORECASE)\n",
    "    if match:\n",
    "        quest8_list.append(match.group())"
   ]
  },
  {
   "cell_type": "code",
   "execution_count": 59,
   "metadata": {
    "id": "svS4-vvPMl6f"
   },
   "outputs": [
    {
     "name": "stdout",
     "output_type": "stream",
     "text": [
      "Number of results found: 4\n",
      "['Sooooo', 'soooo', 'soooooo', 'soooo']\n"
     ]
    }
   ],
   "source": [
    "print(f'Number of results found: {len(quest8_list)}\\n{quest8_list}')"
   ]
  },
  {
   "cell_type": "markdown",
   "metadata": {
    "id": "hkak1opjMmlk"
   },
   "source": [
    "*   **Pregunta 9.**  \n",
    "\n",
    "Busca e imprime todas las palabras que tengan una longitud mayor estrictamente a 10 caracteres alfabéticos.\n",
    "\n",
    "No se consideran los signos de puntuación o caracteres especiales en la longitud de estas cadenas, solo caracteres alfabéticos en mayúsculas o minúsculas.\n",
    "\n",
    "Indica la cantidad de palabras encontradas.\n"
   ]
  },
  {
   "cell_type": "code",
   "execution_count": 60,
   "metadata": {
    "id": "PYxdp3uhMoD0"
   },
   "outputs": [],
   "source": [
    "quest9_list = []\n",
    "pattern = r'\\b[A-Za-z]{11,}\\b'\n",
    "for item in cleaned_docs:\n",
    "    match = re.search(pattern, item)\n",
    "    if match:\n",
    "        quest9_list.append(match.group())"
   ]
  },
  {
   "cell_type": "code",
   "execution_count": 61,
   "metadata": {
    "id": "BR7e2F4FMof-"
   },
   "outputs": [
    {
     "name": "stdout",
     "output_type": "stream",
     "text": [
      "Number of results found: 134\n",
      "['recommendation', 'recommended', 'overwhelmed', 'inexpensive', 'establishment', 'imaginative', 'opportunity', 'experiencing', 'unsatisfying', 'disappointing', 'outrageously', 'disappointing', 'expectations', 'restaurants', 'suggestions', 'disappointed', 'considering', 'Unfortunately', 'immediately', 'ingredients', 'accommodations', 'maintaining', 'Interesting', 'disrespected', 'accordingly', 'unbelievable', 'cheeseburger', 'descriptions', 'inexpensive', 'disappointed', 'Veggitarian', 'outstanding', 'recommendation', 'disappointed', 'neighborhood', 'corporation', 'considering', 'exceptional', 'shawarrrrrrma', 'disappointed', 'vinaigrette', 'immediately', 'unbelievably', 'replenished', 'disappointed', 'enthusiastic', 'Outstanding', 'comfortable', 'interesting', 'INCONSIDERATE', 'considering', 'transcendant', 'disappointment', 'disappointed', 'disappointed', 'overwhelmed', 'Furthermore', 'combination', 'connoisseur', 'profiterole', 'outstanding', 'acknowledged', 'ventilation', 'beautifully', 'establishment', 'extraordinary', 'disappointed', 'cheesecurds', 'disappointed', 'interesting', 'experienced', 'opportunity', 'disgraceful', 'restaurants', 'ESTABLISHMENT', 'recommended', 'disappointed', 'recommended', 'acknowledged', 'presentation', 'Philadelphia', 'disappointed', 'disappointing', 'grandmother', 'drastically', 'informative', 'Disappointed', 'constructed', 'comfortable', 'Smashburger', 'cheeseburger', 'neighborhood', 'disappointed', 'hospitality', 'disappointed', 'deliciously', 'compliments', 'recommendation', 'establishment', 'calligraphy', 'traditional', 'combination', 'Unfortunately', 'Wienerschnitzel', 'unfortunately', 'considering', 'highlighted', 'Mediterranean', 'unprofessional', 'anticipated', 'disappointing', 'unexperienced', 'disrespected', 'professional', 'restaurants', 'Disappointing', 'WAAAAAAyyyyyyyyyy', 'reservation', 'imagination', 'undercooked', 'disappointed', 'disappointment', 'disappointment', 'deuchebaggery', 'disappointed', 'disappointment', 'immediately', 'Unfortunately', 'circumstances', 'undercooked', 'caterpillar', 'presentation', 'disappointed', 'underwhelming']\n"
     ]
    }
   ],
   "source": [
    "print(f'Number of results found: {len(quest9_list)}\\n{quest9_list}')"
   ]
  },
  {
   "cell_type": "markdown",
   "metadata": {
    "id": "ApjTNzSxMpDc"
   },
   "source": [
    "*   **Pregunta 10.**  \n",
    "\n",
    "Busca e imprime todas las palabras que inician con una letra mayúscula y terminan con una minúscula, pero que además no sea la primera palabra del comentario/string. \n",
    "\n",
    "Indica la cantidad de resultados obtenidos."
   ]
  },
  {
   "cell_type": "code",
   "execution_count": 9,
   "metadata": {
    "id": "Vb0ndRGAMqdL"
   },
   "outputs": [],
   "source": [
    "quest10_list = []\n",
    "pattern = r'\\b[A-Z][a-z]+\\b'\n",
    "for item in cleaned_docs:\n",
    "    palabras = item.split(maxsplit=1)\n",
    "    if len(palabras) > 1:\n",
    "        words = palabras[1].split()\n",
    "        for word in words:\n",
    "            match = re.match(pattern, word)\n",
    "            if match:\n",
    "                quest10_list.append(match.group())\n"
   ]
  },
  {
   "cell_type": "code",
   "execution_count": 10,
   "metadata": {
    "id": "dLPTRPnTMqqx"
   },
   "outputs": [
    {
     "name": "stdout",
     "output_type": "stream",
     "text": [
      "Number of results found: 266\n",
      "['Loved', 'May', 'Rick', 'Steve', 'Cape', 'Cod', 'Vegas', 'Burrittos', 'Blah', 'The', 'They', 'Mexican', 'Luke', 'Our', 'Hiro', 'Firehouse', 'Greek', 'Greek', 'Heart', 'Attack', 'Grill', 'Vegas', 'Dos', 'Gringos', 'Jeff', 'Really', 'Excalibur', 'Very', 'Bad', 'Customer', 'Service', 'Vegas', 'Rice', 'Company', 'Pho', 'Hard', 'Rock', 'Casino', 'Buffet', 'Tigerlilly', 'Yama', 'Thai', 'Indian', 'Not', 'Vegas', 'Lox', 'Subway', 'Subway', 'Vegas', 'Vegas', 'Mandalay', 'Bay', 'Great', 'Voodoo', 'Phoenix', 'Vegas', 'Khao', 'Soi', 'Lemon', 'Joey', 'Valley', 'Phoenix', 'Magazine', 'Pho', 'Fridays', 'Tasty', 'Jamaican', 'Bisque', 'Bussell', 'Sprouts', 'Risotto', 'Filet', 'Otto', 'Yeah', 'Honestly', 'Not', 'Also', 'Vegas', 'Greek', 'Vegas', 'Veggitarian', 'Madison', 'Ironman', 'Jenni', 'Pho', 'Bachi', 'Burger', 'Pizza', 'Salads', 'They', 'Yelpers', 'Bachi', 'Service', 'English', 'Pizza', 'Hut', 'Seat', 'Standard', 'Thai', 'Tucson', 'Vegas', 'Chipotle', 'Gordon', 'Ramsey', 'Steak', 'Vegas', 'Outstanding', 'Best', 'Food', 'Lobster', 'Bisque', 'Vegas', 'Eggplant', 'Green', 'Bean', 'Halibut', 'Vegas', 'Vegas', 'Vegas', 'Crystals', 'Aria', 'Ians', 'Bouchon', 'San', 'Francisco', 'Bay', 'Area', 'Buldogis', 'Gourmet', 'Hot', 'Dog', 'Steiners', 'Carly', 'Vegas', 'Camelback', 'Flower', 'Shop', 'Cartel', 'Coffee', 'Las', 'Vegas', 'Very', 'Mom', 'Noca', 'Vegas', 'Sat', 'Sun', 'Mexican', 'Frenchman', 'Perfect', 'Vegas', 'Palm', 'This', 'Thai', 'Toast', 'Thai', 'Phoenix', 'Crema', 'Philadelphia', 'North', 'Scottsdale', 'Bloody', 'Mary', 'Pho', 'Caesar', 'Macarons', 'Experience', 'Very', 'Disappointed', 'Big', 'Bay', 'Plater', 'Italian', 'Vegas', 'Baba', 'Ganoush', 'Nobu', 'Smashburger', 'Panna', 'Cotta', 'Breeze', 'Mango', 'Magic', 'Pineapple', 'Delight', 'The', 'Strip', 'Steak', 'Paradise', 'Valley', 'Cibo', 'Thumbs', 'Up', 'Italian', 'Pros', 'Large', 'Nice', 'Great', 'The', 'Elk', 'Filet', 'Dylan', 'All', 'Han', 'Nan', 'Chicken', 'Bar', 'Edinburgh', 'Chinese', 'Indian', 'Chinese', 'Prices', 'Phoenix', 'Both', 'Hot', 'Sour', 'Egg', 'Flower', 'Soups', 'Stars', 'Sunday', 'Hunan', 'The', 'Pita', 'Wienerschnitzel', 'Maine', 'Lobster', 'Roll', 'Kabuki', 'Maria', 'Caballero', 'Wife', 'Strip', 'Costco', 'To', 'Place', 'Gyros', 'Japanese', 'Albondigas', 'Mediterranean', 'Chicken', 'Salad', 'Mellow', 'Mushroom', 'Thai', 'Vegas', 'Mmmm', 'Buffet', 'Bellagio', 'Vegas', 'Christmas', 'Eve', 'Denny', 'Vegetarian', 'Taco', 'Heimer', 'Ha', 'Long', 'Bay', 'Subway', 'When', 'Brushfire', 'Mirage', 'In', 'Ninja', 'Sushi']\n"
     ]
    }
   ],
   "source": [
    "print(f'Number of results found: {len(quest10_list)}\\n{quest10_list}')"
   ]
  },
  {
   "cell_type": "markdown",
   "metadata": {
    "id": "u7nfm4KhMrNW"
   },
   "source": [
    "*   **Pregunta 11.**  \n",
    "\n",
    "Busca e imprime la secuencia de dos o más palabras que están separadas por un guion, \"-\", sin que tengan espacios en blanco entre ellas.\n",
    "\n",
    "Por ejemplo \"Go-Kart\" sería válido, pero \"Go  -Kart\" o \"Go  -  Kart\" no lo serían. \n",
    "\n",
    "Indica la cantidad de resultados obtenidos."
   ]
  },
  {
   "cell_type": "code",
   "execution_count": 13,
   "metadata": {
    "id": "OwU-a7eGMsub"
   },
   "outputs": [],
   "source": [
    "quest11_list = []\n",
    "pattern = r'\\b\\w+(?:-\\w+)+\\b'\n",
    "for item in cleaned_docs:\n",
    "    match = re.search(pattern, item)\n",
    "    if match:\n",
    "        quest11_list.append(match.group())"
   ]
  },
  {
   "cell_type": "code",
   "execution_count": 14,
   "metadata": {
    "id": "SgzIL74ZMtGw"
   },
   "outputs": [
    {
     "name": "stdout",
     "output_type": "stream",
     "text": [
      "Number of results found: 16\n",
      "['flat-lined', 'hands-down', 'must-stop', 'sub-par', 'Service-check', 'in-house', 'been-stepped-in-and-tracked-everywhere', 'multi-grain', 'to-go', 'non-customer', 'High-quality', 'sit-down', 'over-whelm', 'low-key', 'golden-crispy', 'over-priced']\n"
     ]
    }
   ],
   "source": [
    "print(f'Number of results found: {len(quest11_list)}\\n{quest11_list}')"
   ]
  },
  {
   "cell_type": "markdown",
   "metadata": {
    "id": "DEIgl79HMthr"
   },
   "source": [
    "*   **Pregunta 12.**  \n",
    "\n",
    "Busca e imprime todas las palabras que terminan en \"ing\" o \"ed\". \n",
    "\n",
    "Indica la cantidad de palabras que encontraste de cada una."
   ]
  },
  {
   "cell_type": "code",
   "execution_count": 17,
   "metadata": {
    "id": "I4TSofBMMv9y"
   },
   "outputs": [],
   "source": [
    "quest12_list_ing = []\n",
    "quest12_list_ed = []\n",
    "pattern_ing = r'\\b\\w+ing\\b'\n",
    "pattern_ed = r'\\b\\w+ed\\b'\n",
    "\n",
    "for item in cleaned_docs:\n",
    "    match_ing = re.search(pattern_ing, item)\n",
    "    match_ed = re.search(pattern_ed, item)\n",
    "    if match_ing:\n",
    "        quest12_list_ing.append(match_ing.group())\n",
    "    if match_ed:\n",
    "        quest12_list_ed.append(match_ed.group())"
   ]
  },
  {
   "cell_type": "code",
   "execution_count": 19,
   "metadata": {
    "id": "AhGq6De2Mvyh"
   },
   "outputs": [
    {
     "name": "stdout",
     "output_type": "stream",
     "text": [
      "(Ing) Number of results found: 245\n",
      "['during', 'getting', 'being', 'being', 'amazing', 'running', 'redeeming', 'getting', 'thing', 'dressing', 'running', 'amazing', 'nothing', 'appalling', 'wasting', 'Coming', 'eating', 'raving', 'spring', 'unsatisfying', 'amazing', 'Everything', 'disappointing', 'flirting', 'thing', 'playing', 'ordering', 'disappointing', 'preparing', 'loving', 'liking', 'venturing', 'including', 'during', 'changing', 'considering', 'going', 'everything', 'looking', 'dressing', 'dining', 'Everything', 'judging', 'maintaining', 'asking', 'having', 'something', 'Interesting', 'preparing', 'missing', 'feeling', 'exceeding', 'inviting', 'climbing', 'waiting', 'being', 'lacking', 'going', 'amazing', 'dealing', 'falling', 'sporting', 'amazing', 'providing', 'building', 'lighting', 'going', 'nothing', 'dressing', 'being', 'outstanding', 'getting', 'amazing', 'rating', 'everything', 'dining', 'boring', 'charming', 'going', 'making', 'pricing', 'considering', 'amazing', 'Everything', 'nothing', 'nothing', 'driving', 'during', 'evening', 'Outstanding', 'buying', 'handling', 'wasting', 'craving', 'dining', 'interesting', 'being', 'outshining', 'starving', 'coming', 'considering', 'nothing', 'getting', 'trying', 'eating', 'going', 'everything', 'Nothing', 'going', 'outstanding', 'running', 'forgetting', 'upgrading', 'eating', 'hoping', 'dining', 'filling', 'amazing', 'Everything', 'thing', 'amazing', 'Everything', 'interesting', 'amazing', 'amazing', 'waiting', 'going', 'going', 'dining', 'saving', 'something', 'trying', 'disgusting', 'hankering', 'being', 'being', 'being', 'setting', 'sitting', 'satisfying', 'eating', 'being', 'getting', 'amazing', 'disappointing', 'seasoning', 'going', 'being', 'bring', 'letting', 'evening', 'waiting', 'eating', 'going', 'seating', 'playing', 'amazing', 'staying', 'giving', 'talking', 'amazing', 'amazing', 'amazing', 'amazing', 'filling', 'dripping', 'going', 'serving', 'recommending', 'thing', 'reading', 'seating', 'going', 'thing', 'sitting', 'revisiting', 'coming', 'anything', 'feeling', 'during', 'thing', 'being', 'amazing', 'being', 'amazing', 'satifying', 'describing', 'coming', 'everything', 'Paying', 'going', 'thing', 'amazing', 'getting', 'cramming', 'considering', 'fucking', 'going', 'appealing', 'getting', 'coming', 'Everything', 'dealing', 'everything', 'something', 'dining', 'editing', 'setting', 'amazing', 'rotating', 'Pricing', 'satisfying', 'disappointing', 'amazing', 'returning', 'running', 'being', 'thing', 'nothing', 'poisoning', 'thinking', 'going', 'disgusting', 'caring', 'bring', 'Disappointing', 'saying', 'going', 'coming', 'building', 'seating', 'dipping', 'setting', 'anything', 'drinking', 'serving', 'doing', 'putting', 'getting', 'looking', 'coming', 'staying', 'lacking', 'underwhelming', 'drawing']\n",
      "(Ed) Number of results found: 264\n",
      "['Loved', 'Stopped', 'ended', 'tried', 'disgusted', 'shocked', 'recommended', 'performed', 'red', 'asked', 'overwhelmed', 'grossed', 'provided', 'cooked', 'ordered', 'realized', 'Loved', 'lined', 'cooked', 'ripped', 'included', 'seasoned', 'cheated', 'walked', 'tailored', 'arrived', 'roasted', 'cooked', 'passed', 'liked', 'managed', 'overpriced', 'checked', 'disappointed', 'red', 'decorated', 'served', 'watched', 'greeted', 'waited', 'flavored', 'ordered', 'ordered', 'relocated', 'seated', 'priced', 'treated', 'ordered', 'used', 'missed', 'thrilled', 'inspired', 'desired', 'overcooked', 'decided', 'dressed', 'ordered', 'sucked', 'served', 'arrived', 'satisfied', 'voted', 'insulted', 'dreamed', 'lived', 'mixed', 'showed', 'realized', 'loved', 'needed', 'loved', 'uninspired', 'Ordered', 'covered', 'supposed', 'rolled', 'Based', 'privileged', 'charged', 'visited', 'proclaimed', 'Stopped', 'dedicated', 'liked', 'disappointed', 'waited', 'burned', 'waited', 'disappointed', 'Waited', 'disappointed', 'pulled', 'prepared', 'fried', 'passed', 'ordered', 'figured', 'returned', 'eyed', 'disappointed', 'pleased', 'replenished', 'disappointed', 'treated', 'offered', 'tasted', 'dropped', 'decorated', 'served', 'walked', 'located', 'Cooked', 'disappointed', 'screwed', 'frustrated', 'iced', 'stuffed', 'disappointed', 'grossed', 'enjoyed', 'looked', 'smeared', 'tried', 'rushed', 'loved', 'Ordered', 'cooked', 'insulted', 'contained', 'enjoyed', 'loved', 'acknowledged', 'trimmed', 'claimed', 'asked', 'limited', 'liked', 'attached', 'humiliated', 'fried', 'impressed', 'disappointed', 'priced', 'disappointed', 'need', 'need', 'experienced', 'waited', 'decided', 'pleased', 'recommended', 'helped', 'witnessed', 'Waited', 'checked', 'tasted', 'disappointed', 'served', 'rated', 'recommended', 'pulled', 'perpared', 'enjoyed', 'ended', 'wanted', 'disappointed', 'need', 'checked', 'reheated', 'tasted', 'grilled', 'focused', 'roasted', 'asked', 'tasted', 'Ordered', 'greeted', 'Tried', 'seated', 'Disappointed', 'constructed', 'fried', 'requested', 'used', 'tasted', 'drenched', 'tried', 'walked', 'mortified', 'impressed', 'refrained', 'pleased', 'loved', 'sucked', 'hooked', 'ordered', 'seasoned', 'added', 'touched', 'fried', 'opened', 'watched', 'Tasted', 'ordered', 'received', 'impressed', 'overcooked', 'cooked', 'needed', 'ordered', 'overpriced', 'packed', 'opposed', 'priced', 'surprised', 'overpriced', 'tried', 'enjoyed', 'qualified', 'hated', 'watched', 'tried', 'helped', 'started', 'highlighted', 'used', 'enjoyed', 'ordered', 'asked', 'refused', 'tried', 'toasted', 'anticipated', 'unexperienced', 'insulted', 'impressed', 'puréed', 'asked', 'rated', 'lacked', 'sliced', 'undercooked', 'seemed', 'lacked', 'disappointed', 'overpriced', 'ensued', 'disappointed', 'avoided', 'received', 'wanted', 'sucked', 'happened', 'owned', 'Overpriced', 'vomited', 'started', 'unwrapped', 'lacked', 'closed', 'refried', 'disappointed', 'impressed', 'wasted']\n"
     ]
    }
   ],
   "source": [
    "print(f'(Ing) Number of results found: {len(quest12_list_ing)}\\n{quest12_list_ing}')\n",
    "print(f'(Ed) Number of results found: {len(quest12_list_ed)}\\n{quest12_list_ed}')"
   ]
  },
  {
   "cell_type": "markdown",
   "metadata": {
    "id": "70StdqAZa9E9"
   },
   "source": [
    "#**Parte 3. Proceso de limpieza.**"
   ]
  },
  {
   "cell_type": "markdown",
   "metadata": {
    "id": "xaDUFXHrMvX2"
   },
   "source": [
    "*   **Pregunta 13.**  \n",
    "\n",
    "Ahora realiza un proceso de limpieza del corpus que incluya los siguientes procesos:\n",
    "\n",
    "*   Solo se deben considerar caracteres alfabéticos. Es decir, se eliminan todos los signos de puntuación y caracteres especiales.\n",
    "*   Todos los caracteres alfabéticos se transforman a minúsculas.\n",
    "*   Se deben eliminar todos los espacios en blanco adicionales que se puedan encontrar en cada comentario.\n",
    "\n",
    "Al finalizar dicho proceso de limpieza, imprime el resultado de los primeros 10 comentarios resultantes. \n",
    "   \n",
    "\n",
    "\n"
   ]
  },
  {
   "cell_type": "code",
   "execution_count": 6,
   "metadata": {
    "id": "K3kQzPOPMx0w"
   },
   "outputs": [],
   "source": [
    "quest13_list = []\n",
    "for item in cleaned_docs:\n",
    "    item = re.sub(r'[^a-zA-Z\\s]', '', item)\n",
    "    item = item.lower()\n",
    "    item = re.sub(r'\\s+', ' ', item)\n",
    "    quest13_list.append(item.strip())"
   ]
  },
  {
   "cell_type": "code",
   "execution_count": 7,
   "metadata": {
    "id": "mYEDlHSFMyJN"
   },
   "outputs": [
    {
     "data": {
      "text/plain": [
       "['wow loved this place',\n",
       " 'crust is not good',\n",
       " 'not tasty and the texture was just nasty',\n",
       " 'stopped by during the late may bank holiday off rick steve recommendation and loved it',\n",
       " 'the selection on the menu was great and so were the prices',\n",
       " 'now i am getting angry and i want my damn pho',\n",
       " 'honeslty it didnt taste that fresh',\n",
       " 'the potatoes were like rubber and you could tell they had been made up ahead of time being kept under a warmer',\n",
       " 'the fries were great too',\n",
       " 'a great touch']"
      ]
     },
     "execution_count": 7,
     "metadata": {},
     "output_type": "execute_result"
    }
   ],
   "source": [
    "quest13_list[0:10]"
   ]
  },
  {
   "cell_type": "markdown",
   "metadata": {
    "id": "WZwEhg2lUSAX"
   },
   "source": [
    "*   **Pregunta 14.**  \n",
    "\n",
    "Con el resultado de la limpieza obtenido en la pregunta anterior, realiza ahora un proceso de tokenización por palabras del corpus. \n",
    "\n",
    "Es decir, al final de este proceso de tokenización, debes tener como resultado una lista de listas, donde cada comentario estará tokenizado por palabras.\n",
    "\n",
    "Al terminar calcula el total de tokens obtenido en todo el corpus. "
   ]
  },
  {
   "cell_type": "code",
   "execution_count": 23,
   "metadata": {
    "id": "kbAL9-v0V-jx"
   },
   "outputs": [],
   "source": [
    "tokenized_corpus = []\n",
    "total_tokens = 0\n",
    "for item in quest13_list:\n",
    "        tokens = item.split()\n",
    "        tokenized_corpus.append(tokens)\n",
    "        total_tokens += len(tokens)"
   ]
  },
  {
   "cell_type": "code",
   "execution_count": 24,
   "metadata": {
    "id": "DZs_etmiV-fd"
   },
   "outputs": [
    {
     "name": "stdout",
     "output_type": "stream",
     "text": [
      "Number of tokens: 10777\n"
     ]
    },
    {
     "data": {
      "text/plain": [
       "[['wow', 'loved', 'this', 'place'],\n",
       " ['crust', 'is', 'not', 'good'],\n",
       " ['not', 'tasty', 'and', 'the', 'texture', 'was', 'just', 'nasty']]"
      ]
     },
     "execution_count": 24,
     "metadata": {},
     "output_type": "execute_result"
    }
   ],
   "source": [
    "print(f'Number of tokens: {total_tokens}')\n",
    "tokenized_corpus[0:3]"
   ]
  },
  {
   "cell_type": "markdown",
   "metadata": {
    "id": "EFeu0OJ7WDPD"
   },
   "source": [
    "*   **Pregunta 15.**  \n",
    "\n",
    "Finalmente, en este ejercicio definiremos nuestro conjunto de palabras \"stopwords\", las cuales deberás eliminar de todo el corpus. \n",
    "\n",
    "Recuerda que ejemplos de stopwords son artículos, adverbios, conectivos, etcétera, que tienen frecuencias de aparición muy altas en cualquier documento, pero que no brindan mucho significado en cuanto al significado de un enunciado.\n",
    "\n",
    "Con base a la lista de stopwords que se te proporciona, realiza un proceso de limpieza eliminando todas estas palabras del corpus obtenido en el ejercicio anterior.\n",
    "\n",
    "Obtener cuántos tokens/palabras quedan finalmente en todo el corpus.\n",
    "\n",
    "Obtener cuántos de estos tokens/palabras son diferentes, es decir, cuántos tokens únicos tendrá lo que llamaremos más adelante nuestro vocabulario."
   ]
  },
  {
   "cell_type": "code",
   "execution_count": 14,
   "metadata": {
    "id": "6FP4FF3KXGxm"
   },
   "outputs": [],
   "source": [
    "# Considera la siguiente lista como tu conjunto de stopwords:\n",
    "mis_stopwords = ['i', 'me', 'my', 'myself', 'we', 'our', 'ours', 'ourselves', 'you', 'your', 'yours', 'he', 'him', 'his', 'himself', 'she', 'her', 'hers', 'herself', 'it', 'its', 'itself', 'they', 'them', 'their', 'theirs', 'themselves', 'what', 'which', 'who', 'whom', 'this', 'that', 'these', 'those', 'am', 'is', 'are', 'was', 'were', 'be', 'been', 'being', 'have', 'has', 'had', 'having', 'do', 'does', 'did', 'doing', 'a', 'an', 'the', 'and', 'but', 'if', 'or', 'because', 'as', 'until', 'while', 'of', 'at', 'by', 'for', 'with', 'about', 'against', 'between', 'into', 'through', 'during', 'before', 'after', 'above', 'below', 'to', 'from', 'up', 'down', 'in', 'out', 'on', 'over', 'under', 'again', 'further', 'then', 'once', 'here', 'there', 'when', 'where', 'why', 'how', 'all', 'any', 'both', 'each', 'few', 'more', 'most', 'other', 'some', 'such', 'only', 'own', 'same', 'so', 'than', 'too', 'very', 's', 't', 'can', 'will', 'just', 'should', 'now', 'll']"
   ]
  },
  {
   "cell_type": "code",
   "execution_count": 32,
   "metadata": {
    "id": "CD8yjyq1ZrwY"
   },
   "outputs": [],
   "source": [
    "cleaned_corpus = []\n",
    "vocabulary = set()\n",
    "total_tokens = 0\n",
    "for item in tokenized_corpus:\n",
    "        cleaned_tokens = []\n",
    "        for token in item:\n",
    "                if token not in mis_stopwords:\n",
    "                        cleaned_tokens.append(token)                     \n",
    "                        cleaned_corpus.append(token)\n",
    "                        vocabulary.add(token)\n",
    "        total_tokens += len(cleaned_tokens)"
   ]
  },
  {
   "cell_type": "code",
   "execution_count": 33,
   "metadata": {},
   "outputs": [
    {
     "name": "stdout",
     "output_type": "stream",
     "text": [
      "Total tokens: 5776\n",
      "Vocabulary: 1941\n"
     ]
    }
   ],
   "source": [
    "print(f'Total tokens: {total_tokens}')\n",
    "print(f'Vocabulary: {len(vocabulary)}')"
   ]
  },
  {
   "cell_type": "markdown",
   "metadata": {
    "id": "NDbKkuxRbLoX"
   },
   "source": [
    "*   **Comentarios**\n",
    "\n",
    "Incluye finalmente tus comentarios de la actividad."
   ]
  },
  {
   "cell_type": "markdown",
   "metadata": {
    "id": "o7fzbvqVbUGr"
   },
   "source": [
    "- Las expresiones regulares son herramientas poderosas para buscar y manipular patrones específicos en el texto, lo que facilita la limpieza y preparación del corpus para análisis posterior.\n",
    "\n",
    "- La tokenización divide el texto en unidades significativas para análisis. Contar los tokens nos da información sobre la frecuencia y distribución de las palabras en el corpus."
   ]
  },
  {
   "cell_type": "markdown",
   "metadata": {
    "id": "PHaKw_6Ldbaf"
   },
   "source": [
    "##**Fin de la Actividad de la semana 2.**"
   ]
  }
 ],
 "metadata": {
  "colab": {
   "collapsed_sections": [
    "759SG4TyfbUn",
    "Zj-h4drXD-X9",
    "BY6yifxscfrx",
    "k_ewoagic5jc",
    "70StdqAZa9E9"
   ],
   "provenance": []
  },
  "kernelspec": {
   "display_name": "Python 3 (ipykernel)",
   "language": "python",
   "name": "python3"
  },
  "language_info": {
   "codemirror_mode": {
    "name": "ipython",
    "version": 3
   },
   "file_extension": ".py",
   "mimetype": "text/x-python",
   "name": "python",
   "nbconvert_exporter": "python",
   "pygments_lexer": "ipython3",
   "version": "3.11.5"
  }
 },
 "nbformat": 4,
 "nbformat_minor": 4
}
